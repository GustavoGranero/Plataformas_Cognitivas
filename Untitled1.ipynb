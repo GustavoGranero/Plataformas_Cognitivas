{
  "nbformat": 4,
  "nbformat_minor": 0,
  "metadata": {
    "colab": {
      "provenance": []
    },
    "kernelspec": {
      "name": "python3",
      "display_name": "Python 3"
    },
    "language_info": {
      "name": "python"
    }
  },
  "cells": [
    {
      "cell_type": "code",
      "execution_count": 81,
      "metadata": {
        "colab": {
          "base_uri": "https://localhost:8080/"
        },
        "id": "KTbOCQ1H27CT",
        "outputId": "3712494f-39fe-4e0b-8556-419a93a94a73"
      },
      "outputs": [
        {
          "output_type": "stream",
          "name": "stdout",
          "text": [
            "A situação é de nuvens dispersas\n",
            "A temperatura é de 23.76°C\n"
          ]
        }
      ],
      "source": [
        "import requests\n",
        "\n",
        "response = requests.get(f\"https://api.openweathermap.org/data/2.5/weather?lat=-23.413&lon=-46.4445&lang=pt_br&appid=2e3f704deb68ce7415032be168db9550&units=metric\")\n",
        "\n",
        "x = response.json()\n",
        "print(f\"A situação da região é de {x['weather'][0]['description']}\")\n",
        "print(f\"A temperatura é de {x['main']['temp']}°C\")"
      ]
    }
  ]
}